{
 "cells": [
  {
   "cell_type": "code",
   "execution_count": 59,
   "metadata": {},
   "outputs": [],
   "source": [
    "import pandas as pd\n",
    "from datetime import datetime\n",
    "from tqdm import tqdm"
   ]
  },
  {
   "cell_type": "code",
   "execution_count": 66,
   "metadata": {},
   "outputs": [],
   "source": [
    "csv_filename = '../temp.csv'\n",
    "groupby_time_frequency = 'H' # H indicates hourly\n",
    "aggregate_csv_filename = '../agg_temp.csv'"
   ]
  },
  {
   "cell_type": "code",
   "execution_count": 63,
   "metadata": {},
   "outputs": [
    {
     "data": {
      "text/html": [
       "<div>\n",
       "<style scoped>\n",
       "    .dataframe tbody tr th:only-of-type {\n",
       "        vertical-align: middle;\n",
       "    }\n",
       "\n",
       "    .dataframe tbody tr th {\n",
       "        vertical-align: top;\n",
       "    }\n",
       "\n",
       "    .dataframe thead th {\n",
       "        text-align: right;\n",
       "    }\n",
       "</style>\n",
       "<table border=\"1\" class=\"dataframe\">\n",
       "  <thead>\n",
       "    <tr style=\"text-align: right;\">\n",
       "      <th></th>\n",
       "      <th>case_id</th>\n",
       "      <th>activity</th>\n",
       "      <th>resource</th>\n",
       "      <th>completion_datetime</th>\n",
       "    </tr>\n",
       "  </thead>\n",
       "  <tbody>\n",
       "    <tr>\n",
       "      <th>0</th>\n",
       "      <td>2182</td>\n",
       "      <td>Start Event</td>\n",
       "      <td>None</td>\n",
       "      <td>2019-05-24 11:04:37.943</td>\n",
       "    </tr>\n",
       "    <tr>\n",
       "      <th>1</th>\n",
       "      <td>2182</td>\n",
       "      <td>Task 1</td>\n",
       "      <td>Resource 1</td>\n",
       "      <td>2019-05-24 11:10:55.750</td>\n",
       "    </tr>\n",
       "    <tr>\n",
       "      <th>2</th>\n",
       "      <td>2182</td>\n",
       "      <td>Task 2</td>\n",
       "      <td>Resource 2</td>\n",
       "      <td>2019-05-27 09:05:39.287</td>\n",
       "    </tr>\n",
       "    <tr>\n",
       "      <th>3</th>\n",
       "      <td>2182</td>\n",
       "      <td>Task 3</td>\n",
       "      <td>Resource 1</td>\n",
       "      <td>2019-05-27 09:09:58.065</td>\n",
       "    </tr>\n",
       "    <tr>\n",
       "      <th>4</th>\n",
       "      <td>2182</td>\n",
       "      <td>End Event</td>\n",
       "      <td>None</td>\n",
       "      <td>2019-05-27 09:09:58.065</td>\n",
       "    </tr>\n",
       "  </tbody>\n",
       "</table>\n",
       "</div>"
      ],
      "text/plain": [
       "   case_id     activity    resource     completion_datetime\n",
       "0     2182  Start Event        None 2019-05-24 11:04:37.943\n",
       "1     2182       Task 1  Resource 1 2019-05-24 11:10:55.750\n",
       "2     2182       Task 2  Resource 2 2019-05-27 09:05:39.287\n",
       "3     2182       Task 3  Resource 1 2019-05-27 09:09:58.065\n",
       "4     2182    End Event        None 2019-05-27 09:09:58.065"
      ]
     },
     "execution_count": 63,
     "metadata": {},
     "output_type": "execute_result"
    }
   ],
   "source": [
    "df = pd.read_csv(csv_filename)\n",
    "df['completion_datetime'] = pd.to_datetime(df.complete_timestamp, format='%Y-%m-%dT%H:%M:%S.%f+00:00')\n",
    "df.drop(columns='complete_timestamp', inplace=True)\n",
    "df.fillna('None', inplace=True)\n",
    "df.head()"
   ]
  },
  {
   "cell_type": "code",
   "execution_count": 64,
   "metadata": {},
   "outputs": [
    {
     "name": "stderr",
     "output_type": "stream",
     "text": [
      "100%|██████████| 7064/7064 [00:37<00:00, 190.68it/s]\n"
     ]
    },
    {
     "data": {
      "text/html": [
       "<div>\n",
       "<style scoped>\n",
       "    .dataframe tbody tr th:only-of-type {\n",
       "        vertical-align: middle;\n",
       "    }\n",
       "\n",
       "    .dataframe tbody tr th {\n",
       "        vertical-align: top;\n",
       "    }\n",
       "\n",
       "    .dataframe thead th {\n",
       "        text-align: right;\n",
       "    }\n",
       "</style>\n",
       "<table border=\"1\" class=\"dataframe\">\n",
       "  <thead>\n",
       "    <tr style=\"text-align: right;\">\n",
       "      <th></th>\n",
       "      <th>timestamp</th>\n",
       "      <th>activity</th>\n",
       "      <th>resource</th>\n",
       "      <th>count</th>\n",
       "    </tr>\n",
       "  </thead>\n",
       "  <tbody>\n",
       "    <tr>\n",
       "      <th>0</th>\n",
       "      <td>2019-01-16 09:00:00</td>\n",
       "      <td>End Event</td>\n",
       "      <td>None</td>\n",
       "      <td>2</td>\n",
       "    </tr>\n",
       "    <tr>\n",
       "      <th>1</th>\n",
       "      <td>2019-01-16 09:00:00</td>\n",
       "      <td>Start Event</td>\n",
       "      <td>None</td>\n",
       "      <td>4</td>\n",
       "    </tr>\n",
       "    <tr>\n",
       "      <th>2</th>\n",
       "      <td>2019-01-16 09:00:00</td>\n",
       "      <td>Task 1</td>\n",
       "      <td>None</td>\n",
       "      <td>1</td>\n",
       "    </tr>\n",
       "    <tr>\n",
       "      <th>3</th>\n",
       "      <td>2019-01-16 09:00:00</td>\n",
       "      <td>Task 1</td>\n",
       "      <td>Resource 1</td>\n",
       "      <td>3</td>\n",
       "    </tr>\n",
       "    <tr>\n",
       "      <th>4</th>\n",
       "      <td>2019-01-16 09:00:00</td>\n",
       "      <td>Task 2</td>\n",
       "      <td>Resource 2</td>\n",
       "      <td>2</td>\n",
       "    </tr>\n",
       "  </tbody>\n",
       "</table>\n",
       "</div>"
      ],
      "text/plain": [
       "            timestamp     activity    resource count\n",
       "0 2019-01-16 09:00:00    End Event        None     2\n",
       "1 2019-01-16 09:00:00  Start Event        None     4\n",
       "2 2019-01-16 09:00:00       Task 1        None     1\n",
       "3 2019-01-16 09:00:00       Task 1  Resource 1     3\n",
       "4 2019-01-16 09:00:00       Task 2  Resource 2     2"
      ]
     },
     "execution_count": 64,
     "metadata": {},
     "output_type": "execute_result"
    }
   ],
   "source": [
    "aggregate_df = pd.DataFrame(columns=['timestamp', 'activity', 'resource', 'count'])\n",
    "\n",
    "grouped = df.groupby(pd.Grouper(key='completion_datetime', freq=groupby_time_frequency))\n",
    "for name1, group1 in tqdm(grouped):\n",
    "    for name2, group2 in group1.groupby(['activity', 'resource']):\n",
    "        aggregate_df = aggregate_df.append({\n",
    "                'timestamp': name1,\n",
    "                'activity': name2[0],\n",
    "                'resource': name2[1],\n",
    "                'count': len(group2['case_id'].unique())\n",
    "            }, ignore_index=True)\n",
    "\n",
    "aggregate_df.head()"
   ]
  },
  {
   "cell_type": "code",
   "execution_count": 67,
   "metadata": {},
   "outputs": [],
   "source": [
    "aggregate_df.to_csv(aggregate_csv_filename, index=False)"
   ]
  }
 ],
 "metadata": {
  "kernelspec": {
   "display_name": "Python [conda env:py36]",
   "language": "python",
   "name": "conda-env-py36-py"
  },
  "language_info": {
   "codemirror_mode": {
    "name": "ipython",
    "version": 3
   },
   "file_extension": ".py",
   "mimetype": "text/x-python",
   "name": "python",
   "nbconvert_exporter": "python",
   "pygments_lexer": "ipython3",
   "version": "3.6.7"
  }
 },
 "nbformat": 4,
 "nbformat_minor": 2
}
