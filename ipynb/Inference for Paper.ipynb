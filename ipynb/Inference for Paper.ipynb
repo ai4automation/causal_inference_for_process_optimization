{
 "cells": [
  {
   "cell_type": "markdown",
   "metadata": {},
   "source": [
    "# DoWhy \n",
    "\n",
    "Causal Inference has four steps - \n",
    "1. **Model** a causal inference problem using assumptions.\n",
    "2. **Identify** an expression for the causal effect under these assumptions (“causal estimand”).\n",
    "3. **Estimate** the expression using statistical methods such as matching or instrumental variables.\n",
    "4. Finally, **verify validity** of the estimate using a variety of robustness checks.\n",
    "\n",
    "In **DoWhy** there are four verbs to capture this workflow - \n",
    "* model\n",
    "* identify\n",
    "* estimate\n",
    "* refute"
   ]
  },
  {
   "cell_type": "code",
   "execution_count": 1,
   "metadata": {},
   "outputs": [],
   "source": [
    "%matplotlib inline\n",
    "import matplotlib.pyplot as plt\n",
    "import dowhy\n",
    "from dowhy.do_why import CausalModel\n",
    "import dowhy.datasets\n",
    "import numpy as np\n",
    "import pandas as pd\n",
    "import networkx as nx"
   ]
  },
  {
   "cell_type": "markdown",
   "metadata": {},
   "source": [
    "## Step 1: Model \n",
    "* DoWhy requires graph to be specified in Graph Markup Language (GML)\n",
    "* We will use `networkx` library to model our custom graph "
   ]
  },
  {
   "cell_type": "code",
   "execution_count": 2,
   "metadata": {},
   "outputs": [
    {
     "data": {
      "image/png": "[encoded data removed]",
      "text/plain": [
       "<matplotlib.figure.Figure at 0xa1f168ac8>"
      ]
     },
     "metadata": {},
     "output_type": "display_data"
    }
   ],
   "source": [
    "lucas_graph = nx.DiGraph()\n",
    "lucas_graph.add_edges_from([\n",
    "(\"Task 3\",      \"End Event\"),\n",
    "(\"Resource 2\",  \"Task 2\"), \n",
    "(\"Start Event\", \"Task 1\" ),   \n",
    "(\"Task 2\", \"Task 3\"  ),  \n",
    "(\"Task 1\", \"Resource 1\"),\n",
    "(\"Task 1\", \"Resource 2\")])\n",
    "\n",
    "nx.draw_circular(lucas_graph, with_labels=True, font_weight='bold')"
   ]
  },
  {
   "cell_type": "markdown",
   "metadata": {},
   "source": [
    "### Generate GML String\n",
    "`dowhy` required the graph to be specified in GML."
   ]
  },
  {
   "cell_type": "code",
   "execution_count": 3,
   "metadata": {},
   "outputs": [],
   "source": [
    "lucas_graph_str = ''.join(list(nx.generate_gml(lucas_graph)))"
   ]
  },
  {
   "cell_type": "code",
   "execution_count": 4,
   "metadata": {},
   "outputs": [
    {
     "data": {
      "text/plain": [
       "'graph [  directed 1  node [    id 0    label \"Task 3\"  ]  node [    id 1    label \"End Event\"  ]  node [    id 2    label \"Resource 2\"  ]  node [    id 3    label \"Task 2\"  ]  node [    id 4    label \"Start Event\"  ]  node [    id 5    label \"Task 1\"  ]  node [    id 6    label \"Resource 1\"  ]  edge [    source 0    target 1  ]  edge [    source 2    target 3  ]  edge [    source 3    target 0  ]  edge [    source 4    target 5  ]  edge [    source 5    target 6  ]  edge [    source 5    target 2  ]]'"
      ]
     },
     "execution_count": 4,
     "metadata": {},
     "output_type": "execute_result"
    }
   ],
   "source": [
    "lucas_graph_str"
   ]
  },
  {
   "cell_type": "markdown",
   "metadata": {},
   "source": [
    "### Read LUCAS data"
   ]
  },
  {
   "cell_type": "code",
   "execution_count": 5,
   "metadata": {},
   "outputs": [
    {
     "data": {
      "text/html": [
       "<div>\n",
       "<style scoped>\n",
       "    .dataframe tbody tr th:only-of-type {\n",
       "        vertical-align: middle;\n",
       "    }\n",
       "\n",
       "    .dataframe tbody tr th {\n",
       "        vertical-align: top;\n",
       "    }\n",
       "\n",
       "    .dataframe thead th {\n",
       "        text-align: right;\n",
       "    }\n",
       "</style>\n",
       "<table border=\"1\" class=\"dataframe\">\n",
       "  <thead>\n",
       "    <tr style=\"text-align: right;\">\n",
       "      <th></th>\n",
       "      <th>Resource 1</th>\n",
       "      <th>Resource 2</th>\n",
       "      <th>Start Event</th>\n",
       "      <th>Task 1</th>\n",
       "      <th>Task 2</th>\n",
       "      <th>Task 3</th>\n",
       "      <th>End Event</th>\n",
       "    </tr>\n",
       "  </thead>\n",
       "  <tbody>\n",
       "    <tr>\n",
       "      <th>0</th>\n",
       "      <td>5</td>\n",
       "      <td>2</td>\n",
       "      <td>4</td>\n",
       "      <td>4</td>\n",
       "      <td>2</td>\n",
       "      <td>2</td>\n",
       "      <td>2</td>\n",
       "    </tr>\n",
       "    <tr>\n",
       "      <th>1</th>\n",
       "      <td>7</td>\n",
       "      <td>2</td>\n",
       "      <td>3</td>\n",
       "      <td>3</td>\n",
       "      <td>3</td>\n",
       "      <td>3</td>\n",
       "      <td>3</td>\n",
       "    </tr>\n",
       "    <tr>\n",
       "      <th>2</th>\n",
       "      <td>7</td>\n",
       "      <td>4</td>\n",
       "      <td>4</td>\n",
       "      <td>3</td>\n",
       "      <td>4</td>\n",
       "      <td>4</td>\n",
       "      <td>4</td>\n",
       "    </tr>\n",
       "    <tr>\n",
       "      <th>3</th>\n",
       "      <td>6</td>\n",
       "      <td>3</td>\n",
       "      <td>3</td>\n",
       "      <td>3</td>\n",
       "      <td>3</td>\n",
       "      <td>3</td>\n",
       "      <td>3</td>\n",
       "    </tr>\n",
       "    <tr>\n",
       "      <th>4</th>\n",
       "      <td>7</td>\n",
       "      <td>3</td>\n",
       "      <td>4</td>\n",
       "      <td>5</td>\n",
       "      <td>3</td>\n",
       "      <td>2</td>\n",
       "      <td>2</td>\n",
       "    </tr>\n",
       "  </tbody>\n",
       "</table>\n",
       "</div>"
      ],
      "text/plain": [
       "   Resource 1  Resource 2  Start Event  Task 1  Task 2  Task 3  End Event\n",
       "0           5           2            4       4       2       2          2\n",
       "1           7           2            3       3       3       3          3\n",
       "2           7           4            4       3       4       4          4\n",
       "3           6           3            3       3       3       3          3\n",
       "4           7           3            4       5       3       2          2"
      ]
     },
     "execution_count": 5,
     "metadata": {},
     "output_type": "execute_result"
    }
   ],
   "source": [
    "df = pd.read_csv('new_aggregate.csv')\n",
    "df.head()"
   ]
  },
  {
   "cell_type": "markdown",
   "metadata": {},
   "source": [
    "### Create a `dowhy` causal model"
   ]
  },
  {
   "cell_type": "code",
   "execution_count": 7,
   "metadata": {},
   "outputs": [
    {
     "name": "stdout",
     "output_type": "stream",
     "text": [
      "Model to find the causal effect of treatment Task 2 on outcome End Event\n"
     ]
    }
   ],
   "source": [
    "lucas_model = CausalModel(\n",
    "                data = df,\n",
    "                treatment=\"Task 2\",\n",
    "                outcome=\"End Event\",\n",
    "                graph=lucas_graph_str\n",
    "                )"
   ]
  },
  {
   "cell_type": "code",
   "execution_count": 8,
   "metadata": {},
   "outputs": [
    {
     "name": "stderr",
     "output_type": "stream",
     "text": [
      "/Users/tanmayee/anaconda/envs/py36/lib/python3.6/site-packages/pygraphviz/agraph.py:1341: RuntimeWarning: Warning: Could not load \"/Users/tanmayee/anaconda/envs/py36/lib/graphviz/libgvplugin_pango.6.dylib\" - file not found\n",
      "Warning: Could not load \"/Users/tanmayee/anaconda/envs/py36/lib/graphviz/libgvplugin_pango.6.dylib\" - file not found\n",
      "Warning: Could not load \"/Users/tanmayee/anaconda/envs/py36/lib/graphviz/libgvplugin_pango.6.dylib\" - file not found\n",
      "\n",
      "  warnings.warn(b\"\".join(errors).decode(self.encoding), RuntimeWarning)\n"
     ]
    },
    {
     "data": {
      "image/png": "[encoded data removed]",
      "text/plain": [
       "<IPython.core.display.Image object>"
      ]
     },
     "metadata": {},
     "output_type": "display_data"
    }
   ],
   "source": [
    "lucas_model.view_model()\n",
    "from IPython.display import Image, display\n",
    "display(Image(filename=\"causal_model.png\"))"
   ]
  },
  {
   "cell_type": "markdown",
   "metadata": {},
   "source": [
    "## Step 2: Identify Estimand\n",
    "Estimand is a mathematical expression and not a quantity."
   ]
  },
  {
   "cell_type": "code",
   "execution_count": 9,
   "metadata": {},
   "outputs": [
    {
     "name": "stderr",
     "output_type": "stream",
     "text": [
      "INFO:dowhy.causal_identifier:Common causes of treatment and outcome:{'U', 'Resource 2', 'Task 1', 'Start Event'}\n"
     ]
    },
    {
     "name": "stdout",
     "output_type": "stream",
     "text": [
      "{'label': 'Unobserved Confounders', 'observed': 'no'}\n",
      "There are unobserved common causes. Causal effect cannot be identified.\n",
      "WARN: Do you want to continue by ignoring these unobserved confounders? [y/n] y\n"
     ]
    },
    {
     "name": "stderr",
     "output_type": "stream",
     "text": [
      "INFO:dowhy.causal_identifier:Instrumental variables for treatment and outcome:['Resource 2']\n"
     ]
    },
    {
     "name": "stdout",
     "output_type": "stream",
     "text": [
      "Estimand type: ate\n",
      "### Estimand : 1\n",
      "Estimand name: backdoor\n",
      "Estimand expression:\n",
      "   d                                                         \n",
      "───────(Expectation(End Event|Resource 2,Task 1,Start Event))\n",
      "dTask 2                                                      \n",
      "Estimand assumption 1, Unconfoundedness: If U→Task 2 and U→End Event then P(End Event|Task 2,Resource 2,Task 1,Start Event,U) = P(End Event|Task 2,Resource 2,Task 1,Start Event)\n",
      "### Estimand : 2\n",
      "Estimand name: iv\n",
      "Estimand expression:\n",
      "Expectation(Derivative(End Event, Resource 2)/Derivative(Task 2, Resource 2))\n",
      "Estimand assumption 1, As-if-random: If U→→End Event then ¬(U →→Resource 2)\n",
      "Estimand assumption 2, Exclusion: If we remove {Resource 2}→Task 2, then ¬(Resource 2→End Event)\n",
      "\n"
     ]
    }
   ],
   "source": [
    "# Identify causal effect and return target estimands\n",
    "identified_estimand = lucas_model.identify_effect()\n",
    "print(identified_estimand)"
   ]
  },
  {
   "cell_type": "markdown",
   "metadata": {},
   "source": [
    "## Step 3: Estimate Causal Effect\n",
    "In this step, we use the data to estimate the causal effect using the estimand."
   ]
  },
  {
   "cell_type": "markdown",
   "metadata": {},
   "source": [
    "### Propensity Score Matching"
   ]
  },
  {
   "cell_type": "code",
   "execution_count": 11,
   "metadata": {},
   "outputs": [
    {
     "name": "stderr",
     "output_type": "stream",
     "text": [
      "INFO:dowhy.causal_estimator:INFO: Using Propensity Score Matching Estimator\n",
      "INFO:dowhy.causal_estimator:b: End Event~Task 2+Resource 2+Task 1+Start Event\n"
     ]
    },
    {
     "name": "stdout",
     "output_type": "stream",
     "text": [
      "PropensityScoreMatchingEstimator\n",
      "*** Causal Estimate ***\n",
      "\n",
      "## Target estimand\n",
      "Estimand type: ate\n",
      "### Estimand : 1\n",
      "Estimand name: backdoor\n",
      "Estimand expression:\n",
      "   d                                                         \n",
      "───────(Expectation(End Event|Resource 2,Task 1,Start Event))\n",
      "dTask 2                                                      \n",
      "Estimand assumption 1, Unconfoundedness: If U→Task 2 and U→End Event then P(End Event|Task 2,Resource 2,Task 1,Start Event,U) = P(End Event|Task 2,Resource 2,Task 1,Start Event)\n",
      "### Estimand : 2\n",
      "Estimand name: iv\n",
      "Estimand expression:\n",
      "Expectation(Derivative(End Event, Resource 2)/Derivative(Task 2, Resource 2))\n",
      "Estimand assumption 1, As-if-random: If U→→End Event then ¬(U →→Resource 2)\n",
      "Estimand assumption 2, Exclusion: If we remove {Resource 2}→Task 2, then ¬(Resource 2→End Event)\n",
      "\n",
      "## Realized estimand\n",
      "b: End Event~Task 2+Resource 2+Task 1+Start Event\n",
      "## Estimate\n",
      "Value: 0.5172413793103449\n",
      "\n"
     ]
    }
   ],
   "source": [
    "# Estimate the target estimand using a statistical method.\n",
    "psm_estimate = lucas_model.estimate_effect(identified_estimand,\n",
    "        method_name=\"backdoor.propensity_score_matching\")\n",
    "print(psm_estimate)"
   ]
  },
  {
   "cell_type": "markdown",
   "metadata": {},
   "source": [
    "### Regression"
   ]
  },
  {
   "cell_type": "code",
   "execution_count": 12,
   "metadata": {},
   "outputs": [
    {
     "name": "stderr",
     "output_type": "stream",
     "text": [
      "INFO:dowhy.causal_estimator:INFO: Using Linear Regression Estimator\n",
      "INFO:dowhy.causal_estimator:b: End Event~Task 2+Resource 2+Task 1+Start Event\n"
     ]
    },
    {
     "name": "stdout",
     "output_type": "stream",
     "text": [
      "LinearRegressionEstimator\n",
      "*** Causal Estimate ***\n",
      "\n",
      "## Target estimand\n",
      "Estimand type: ate\n",
      "### Estimand : 1\n",
      "Estimand name: backdoor\n",
      "Estimand expression:\n",
      "   d                                                         \n",
      "───────(Expectation(End Event|Resource 2,Task 1,Start Event))\n",
      "dTask 2                                                      \n",
      "Estimand assumption 1, Unconfoundedness: If U→Task 2 and U→End Event then P(End Event|Task 2,Resource 2,Task 1,Start Event,U) = P(End Event|Task 2,Resource 2,Task 1,Start Event)\n",
      "### Estimand : 2\n",
      "Estimand name: iv\n",
      "Estimand expression:\n",
      "Expectation(Derivative(End Event, Resource 2)/Derivative(Task 2, Resource 2))\n",
      "Estimand assumption 1, As-if-random: If U→→End Event then ¬(U →→Resource 2)\n",
      "Estimand assumption 2, Exclusion: If we remove {Resource 2}→Task 2, then ¬(Resource 2→End Event)\n",
      "\n",
      "## Realized estimand\n",
      "b: End Event~Task 2+Resource 2+Task 1+Start Event\n",
      "## Estimate\n",
      "Value: 0.8024441898988764\n",
      "\n",
      "## Statistical Significance\n",
      "p-value: 0.0\n",
      "\n"
     ]
    }
   ],
   "source": [
    "regression_estimate = lucas_model.estimate_effect(identified_estimand,\n",
    "        method_name=\"backdoor.linear_regression\",\n",
    "        test_significance=True)\n",
    "print(regression_estimate)"
   ]
  },
  {
   "cell_type": "markdown",
   "metadata": {},
   "source": [
    "## Step 4: Verify, Validate and Refute"
   ]
  },
  {
   "cell_type": "markdown",
   "metadata": {},
   "source": [
    "### Propensity Score Matching"
   ]
  },
  {
   "cell_type": "code",
   "execution_count": 13,
   "metadata": {},
   "outputs": [
    {
     "name": "stderr",
     "output_type": "stream",
     "text": [
      "INFO:dowhy.causal_estimator:INFO: Using Propensity Score Matching Estimator\n",
      "INFO:dowhy.causal_estimator:b: End Event~Task 2+Resource 2+Task 1+Start Event+w_random\n"
     ]
    },
    {
     "name": "stdout",
     "output_type": "stream",
     "text": [
      "Refute: Add a Random Common Cause\n",
      "Estimated effect:(0.5172413793103449,)\n",
      "New effect:(0.5172413793103449,)\n",
      "\n"
     ]
    }
   ],
   "source": [
    "# Refute the obtained estimate using multiple robustness checks.\n",
    "refute_results = lucas_model.refute_estimate(identified_estimand, psm_estimate,\n",
    "        method_name=\"random_common_cause\")\n",
    "print(refute_results)"
   ]
  },
  {
   "cell_type": "code",
   "execution_count": 14,
   "metadata": {},
   "outputs": [
    {
     "name": "stderr",
     "output_type": "stream",
     "text": [
      "INFO:dowhy.causal_estimator:INFO: Using Propensity Score Matching Estimator\n",
      "INFO:dowhy.causal_estimator:b: End Event~placebo+Resource 2+Task 1+Start Event\n"
     ]
    },
    {
     "name": "stdout",
     "output_type": "stream",
     "text": [
      "Refute: Use a Placebo Treatment\n",
      "Estimated effect:(0.5172413793103449,)\n",
      "New effect:(0.0,)\n",
      "\n"
     ]
    }
   ],
   "source": [
    "# Refute the obtained estimate using multiple robustness checks.\n",
    "refute_results = lucas_model.refute_estimate(identified_estimand, psm_estimate,\n",
    "        method_name=\"placebo_treatment_refuter\", placebo_type=\"permute\")\n",
    "print(refute_results)"
   ]
  },
  {
   "cell_type": "code",
   "execution_count": 15,
   "metadata": {},
   "outputs": [
    {
     "name": "stderr",
     "output_type": "stream",
     "text": [
      "INFO:dowhy.causal_estimator:INFO: Using Propensity Score Matching Estimator\n",
      "INFO:dowhy.causal_estimator:b: End Event~Task 2+Resource 2+Task 1+Start Event\n"
     ]
    },
    {
     "name": "stdout",
     "output_type": "stream",
     "text": [
      "Refute: Use a subset of data\n",
      "Estimated effect:(0.5172413793103449,)\n",
      "New effect:(0.5272727272727272,)\n",
      "\n"
     ]
    }
   ],
   "source": [
    "# Refute the obtained estimate using multiple robustness checks.\n",
    "refute_results = lucas_model.refute_estimate(identified_estimand, psm_estimate,\n",
    "        method_name=\"data_subset_refuter\", subset_fraction=0.9)\n",
    "print(refute_results)"
   ]
  },
  {
   "cell_type": "markdown",
   "metadata": {},
   "source": [
    "### Regression"
   ]
  },
  {
   "cell_type": "code",
   "execution_count": 16,
   "metadata": {},
   "outputs": [
    {
     "name": "stderr",
     "output_type": "stream",
     "text": [
      "INFO:dowhy.causal_estimator:INFO: Using Linear Regression Estimator\n",
      "INFO:dowhy.causal_estimator:b: End Event~Task 2+Resource 2+Task 1+Start Event+w_random\n"
     ]
    },
    {
     "name": "stdout",
     "output_type": "stream",
     "text": [
      "Refute: Add a Random Common Cause\n",
      "Estimated effect:(0.8024441898988764,)\n",
      "New effect:(0.8025321474622825,)\n",
      "\n"
     ]
    }
   ],
   "source": [
    "# Refute the obtained estimate using multiple robustness checks.\n",
    "refute_results = lucas_model.refute_estimate(identified_estimand, regression_estimate,\n",
    "        method_name=\"random_common_cause\")\n",
    "print(refute_results)"
   ]
  },
  {
   "cell_type": "code",
   "execution_count": 17,
   "metadata": {},
   "outputs": [
    {
     "name": "stderr",
     "output_type": "stream",
     "text": [
      "INFO:dowhy.causal_estimator:INFO: Using Linear Regression Estimator\n",
      "INFO:dowhy.causal_estimator:b: End Event~placebo+Resource 2+Task 1+Start Event\n"
     ]
    },
    {
     "name": "stdout",
     "output_type": "stream",
     "text": [
      "Refute: Use a Placebo Treatment\n",
      "Estimated effect:(0.8024441898988764,)\n",
      "New effect:(-0.004879023480803918,)\n",
      "\n"
     ]
    }
   ],
   "source": [
    "# Refute the obtained estimate using multiple robustness checks.\n",
    "refute_results = lucas_model.refute_estimate(identified_estimand, regression_estimate,\n",
    "        method_name=\"placebo_treatment_refuter\", placebo_type=\"permute\")\n",
    "print(refute_results)"
   ]
  },
  {
   "cell_type": "code",
   "execution_count": 18,
   "metadata": {},
   "outputs": [
    {
     "name": "stderr",
     "output_type": "stream",
     "text": [
      "INFO:dowhy.causal_estimator:INFO: Using Linear Regression Estimator\n",
      "INFO:dowhy.causal_estimator:b: End Event~Task 2+Resource 2+Task 1+Start Event\n"
     ]
    },
    {
     "name": "stdout",
     "output_type": "stream",
     "text": [
      "Refute: Use a subset of data\n",
      "Estimated effect:(0.8024441898988764,)\n",
      "New effect:(0.8020369227068489,)\n",
      "\n"
     ]
    }
   ],
   "source": [
    "# Refute the obtained estimate using multiple robustness checks.\n",
    "refute_results = lucas_model.refute_estimate(identified_estimand, regression_estimate,\n",
    "        method_name=\"data_subset_refuter\", subset_fraction=0.9)\n",
    "print(refute_results)"
   ]
  }
 ],
 "metadata": {
  "kernelspec": {
   "display_name": "Python 3",
   "language": "python",
   "name": "python3"
  },
  "language_info": {
   "codemirror_mode": {
    "name": "ipython",
    "version": 3
   },
   "file_extension": ".py",
   "mimetype": "text/x-python",
   "name": "python",
   "nbconvert_exporter": "python",
   "pygments_lexer": "ipython3",
   "version": "3.6.7"
  }
 },
 "nbformat": 4,
 "nbformat_minor": 2
}
