{
 "cells": [
  {
   "cell_type": "markdown",
   "metadata": {},
   "source": [
    "# Causal Models for Specified Business Processes\n",
    "\n",
    "This is an end-end pipeline for using causality in for business processes that are associated with a BPMN model."
   ]
  },
  {
   "cell_type": "code",
   "execution_count": 1,
   "metadata": {},
   "outputs": [],
   "source": [
    "%matplotlib inline\n",
    "import matplotlib.pyplot as plt\n",
    "import dowhy\n",
    "from dowhy.do_why import CausalModel\n",
    "import dowhy.datasets\n",
    "import numpy as np\n",
    "import networkx as nx\n",
    "import xmltodict\n",
    "\n",
    "import pandas as pd\n",
    "from datetime import datetime\n",
    "from tqdm import tqdm, tqdm_notebook"
   ]
  },
  {
   "cell_type": "markdown",
   "metadata": {},
   "source": [
    "## Step 1 - Data Simulation\n",
    "\n",
    "Given a BPMN model, we simulate logs for the business process using BIMP.\n",
    "\n",
    "1. BIMP - http://bimp.cs.ut.ee/simulator\n",
    "2. Save the MXML file generated"
   ]
  },
  {
   "cell_type": "markdown",
   "metadata": {},
   "source": [
    "## Step 2 - Obtain Random Variables\n",
    "\n",
    "Process the generated logs to obtain random variables of interest. The causal model will be built with these random variables."
   ]
  },
  {
   "cell_type": "code",
   "execution_count": 4,
   "metadata": {},
   "outputs": [],
   "source": [
    "# change this as required\n",
    "mxml_filename = '../data/logs/A.1.v2.simulation_logs.mxml'\n",
    "csv_filename = '../data/aggregates/A.1.v2.csv'\n",
    "groupby_time_frequency = 'H'"
   ]
  },
  {
   "cell_type": "code",
   "execution_count": 3,
   "metadata": {},
   "outputs": [
    {
     "name": "stderr",
     "output_type": "stream",
     "text": [
      "100%|██████████| 10000/10000 [06:59<00:00, 23.81it/s]\n"
     ]
    },
    {
     "data": {
      "text/html": [
       "<div>\n",
       "<style scoped>\n",
       "    .dataframe tbody tr th:only-of-type {\n",
       "        vertical-align: middle;\n",
       "    }\n",
       "\n",
       "    .dataframe tbody tr th {\n",
       "        vertical-align: top;\n",
       "    }\n",
       "\n",
       "    .dataframe thead th {\n",
       "        text-align: right;\n",
       "    }\n",
       "</style>\n",
       "<table border=\"1\" class=\"dataframe\">\n",
       "  <thead>\n",
       "    <tr style=\"text-align: right;\">\n",
       "      <th></th>\n",
       "      <th>case_id</th>\n",
       "      <th>activity</th>\n",
       "      <th>resource</th>\n",
       "      <th>complete_timestamp</th>\n",
       "    </tr>\n",
       "  </thead>\n",
       "  <tbody>\n",
       "    <tr>\n",
       "      <th>0</th>\n",
       "      <td>2182</td>\n",
       "      <td>Start Event</td>\n",
       "      <td>None</td>\n",
       "      <td>2019-08-30T13:21:57.012+00:00</td>\n",
       "    </tr>\n",
       "    <tr>\n",
       "      <th>1</th>\n",
       "      <td>2182</td>\n",
       "      <td>Task 1</td>\n",
       "      <td>Resource 1</td>\n",
       "      <td>2019-08-30T14:10:18.445+00:00</td>\n",
       "    </tr>\n",
       "    <tr>\n",
       "      <th>2</th>\n",
       "      <td>2182</td>\n",
       "      <td>Task 2</td>\n",
       "      <td>Resource 2</td>\n",
       "      <td>2019-08-30T14:28:52.132+00:00</td>\n",
       "    </tr>\n",
       "    <tr>\n",
       "      <th>3</th>\n",
       "      <td>2182</td>\n",
       "      <td>Task 3</td>\n",
       "      <td>Resource 3</td>\n",
       "      <td>2019-08-30T15:10:33.004+00:00</td>\n",
       "    </tr>\n",
       "    <tr>\n",
       "      <th>4</th>\n",
       "      <td>2182</td>\n",
       "      <td>End Event</td>\n",
       "      <td>None</td>\n",
       "      <td>2019-08-30T15:10:33.004+00:00</td>\n",
       "    </tr>\n",
       "  </tbody>\n",
       "</table>\n",
       "</div>"
      ],
      "text/plain": [
       "  case_id     activity    resource             complete_timestamp\n",
       "0    2182  Start Event        None  2019-08-30T13:21:57.012+00:00\n",
       "1    2182       Task 1  Resource 1  2019-08-30T14:10:18.445+00:00\n",
       "2    2182       Task 2  Resource 2  2019-08-30T14:28:52.132+00:00\n",
       "3    2182       Task 3  Resource 3  2019-08-30T15:10:33.004+00:00\n",
       "4    2182    End Event        None  2019-08-30T15:10:33.004+00:00"
      ]
     },
     "execution_count": 3,
     "metadata": {},
     "output_type": "execute_result"
    }
   ],
   "source": [
    "# calculates aggregates\n",
    "df = pd.DataFrame(columns=['case_id', 'activity', 'resource', 'complete_timestamp'])\n",
    "\n",
    "with open(mxml_filename) as f:\n",
    "    doc = xmltodict.parse(f.read())\n",
    "\n",
    "for instance in tqdm(doc['WorkflowLog']['Process']['ProcessInstance']):\n",
    "    case_id = instance['@id']\n",
    "    resource = None\n",
    "    iterator = instance['AuditTrailEntry']\n",
    "    iterator.sort(key=lambda x: x['Timestamp'])\n",
    "    for entry in iterator:\n",
    "        if entry['EventType'] == 'assign':\n",
    "            try:\n",
    "                resource = entry['Originator']\n",
    "            except KeyError:\n",
    "                resource = None\n",
    "            continue\n",
    "        df = df.append({\n",
    "            'case_id': case_id,\n",
    "            'activity': entry['WorkflowModelElement'],\n",
    "            'resource': resource,\n",
    "            'complete_timestamp': entry['Timestamp']\n",
    "        }, ignore_index=True)\n",
    "\n",
    "df.head()"
   ]
  },
  {
   "cell_type": "code",
   "execution_count": 5,
   "metadata": {
    "scrolled": true
   },
   "outputs": [
    {
     "data": {
      "text/html": [
       "<div>\n",
       "<style scoped>\n",
       "    .dataframe tbody tr th:only-of-type {\n",
       "        vertical-align: middle;\n",
       "    }\n",
       "\n",
       "    .dataframe tbody tr th {\n",
       "        vertical-align: top;\n",
       "    }\n",
       "\n",
       "    .dataframe thead th {\n",
       "        text-align: right;\n",
       "    }\n",
       "</style>\n",
       "<table border=\"1\" class=\"dataframe\">\n",
       "  <thead>\n",
       "    <tr style=\"text-align: right;\">\n",
       "      <th></th>\n",
       "      <th>Resource 1</th>\n",
       "      <th>Resource 2</th>\n",
       "      <th>Resource 3</th>\n",
       "      <th>Start Event</th>\n",
       "      <th>Task 1</th>\n",
       "      <th>Task 2</th>\n",
       "      <th>Task 3</th>\n",
       "      <th>End Event</th>\n",
       "      <th>hour</th>\n",
       "    </tr>\n",
       "  </thead>\n",
       "  <tbody>\n",
       "    <tr>\n",
       "      <th>0</th>\n",
       "      <td>2</td>\n",
       "      <td>1</td>\n",
       "      <td>0</td>\n",
       "      <td>3</td>\n",
       "      <td>2</td>\n",
       "      <td>1</td>\n",
       "      <td>0</td>\n",
       "      <td>0</td>\n",
       "      <td>9</td>\n",
       "    </tr>\n",
       "    <tr>\n",
       "      <th>1</th>\n",
       "      <td>4</td>\n",
       "      <td>3</td>\n",
       "      <td>2</td>\n",
       "      <td>5</td>\n",
       "      <td>4</td>\n",
       "      <td>3</td>\n",
       "      <td>2</td>\n",
       "      <td>2</td>\n",
       "      <td>10</td>\n",
       "    </tr>\n",
       "    <tr>\n",
       "      <th>2</th>\n",
       "      <td>3</td>\n",
       "      <td>4</td>\n",
       "      <td>3</td>\n",
       "      <td>3</td>\n",
       "      <td>3</td>\n",
       "      <td>4</td>\n",
       "      <td>3</td>\n",
       "      <td>3</td>\n",
       "      <td>11</td>\n",
       "    </tr>\n",
       "    <tr>\n",
       "      <th>3</th>\n",
       "      <td>3</td>\n",
       "      <td>3</td>\n",
       "      <td>2</td>\n",
       "      <td>1</td>\n",
       "      <td>3</td>\n",
       "      <td>3</td>\n",
       "      <td>2</td>\n",
       "      <td>2</td>\n",
       "      <td>12</td>\n",
       "    </tr>\n",
       "    <tr>\n",
       "      <th>4</th>\n",
       "      <td>1</td>\n",
       "      <td>2</td>\n",
       "      <td>4</td>\n",
       "      <td>2</td>\n",
       "      <td>1</td>\n",
       "      <td>2</td>\n",
       "      <td>4</td>\n",
       "      <td>4</td>\n",
       "      <td>13</td>\n",
       "    </tr>\n",
       "  </tbody>\n",
       "</table>\n",
       "</div>"
      ],
      "text/plain": [
       "  Resource 1 Resource 2 Resource 3 Start Event Task 1 Task 2 Task 3 End Event  \\\n",
       "0          2          1          0           3      2      1      0         0   \n",
       "1          4          3          2           5      4      3      2         2   \n",
       "2          3          4          3           3      3      4      3         3   \n",
       "3          3          3          2           1      3      3      2         2   \n",
       "4          1          2          4           2      1      2      4         4   \n",
       "\n",
       "   hour  \n",
       "0     9  \n",
       "1    10  \n",
       "2    11  \n",
       "3    12  \n",
       "4    13  "
      ]
     },
     "execution_count": 5,
     "metadata": {},
     "output_type": "execute_result"
    }
   ],
   "source": [
    "df['completion_datetime'] = pd.to_datetime(df.complete_timestamp, format='%Y-%m-%dT%H:%M:%S.%f+00:00')\n",
    "df.drop(columns='complete_timestamp', inplace=True)\n",
    "df.fillna('None', inplace=True)\n",
    "\n",
    "all_columns = ['timestamp'] + list(df['resource'].unique()) + list(df['activity'].unique())\n",
    "data_aggregate = pd.DataFrame(columns=all_columns)\n",
    "\n",
    "grouped = df.groupby(pd.Grouper(key='completion_datetime', freq=groupby_time_frequency))\n",
    "for name1, group1 in grouped:\n",
    "    temp_row = {key: 0 for key in all_columns}\n",
    "    temp_row['timestamp'] = name1\n",
    "    for name2, group2 in group1.groupby(['activity', 'resource']):\n",
    "        count = len(group2['case_id'].unique())\n",
    "        try:\n",
    "            temp_row[name2[0]] += count\n",
    "        except KeyError:\n",
    "            pass\n",
    "        try:\n",
    "            temp_row[name2[1]] += count\n",
    "        except KeyError:\n",
    "            pass\n",
    "    data_aggregate = data_aggregate.append(temp_row, ignore_index=True)\n",
    "\n",
    "data_aggregate['hour'] = data_aggregate['timestamp'].apply(lambda x: x.hour)\n",
    "data_aggregate.drop(columns=['timestamp', 'None'], inplace=True)\n",
    "data_aggregate.head()"
   ]
  },
  {
   "cell_type": "code",
   "execution_count": 6,
   "metadata": {
    "scrolled": true
   },
   "outputs": [
    {
     "data": {
      "text/html": [
       "<div>\n",
       "<style scoped>\n",
       "    .dataframe tbody tr th:only-of-type {\n",
       "        vertical-align: middle;\n",
       "    }\n",
       "\n",
       "    .dataframe tbody tr th {\n",
       "        vertical-align: top;\n",
       "    }\n",
       "\n",
       "    .dataframe thead th {\n",
       "        text-align: right;\n",
       "    }\n",
       "</style>\n",
       "<table border=\"1\" class=\"dataframe\">\n",
       "  <thead>\n",
       "    <tr style=\"text-align: right;\">\n",
       "      <th></th>\n",
       "      <th>Resource 1</th>\n",
       "      <th>Resource 2</th>\n",
       "      <th>Resource 3</th>\n",
       "      <th>Start Event</th>\n",
       "      <th>Task 1</th>\n",
       "      <th>Task 2</th>\n",
       "      <th>Task 3</th>\n",
       "      <th>End Event</th>\n",
       "    </tr>\n",
       "  </thead>\n",
       "  <tbody>\n",
       "    <tr>\n",
       "      <th>0</th>\n",
       "      <td>2</td>\n",
       "      <td>1</td>\n",
       "      <td>0</td>\n",
       "      <td>3</td>\n",
       "      <td>2</td>\n",
       "      <td>1</td>\n",
       "      <td>0</td>\n",
       "      <td>0</td>\n",
       "    </tr>\n",
       "    <tr>\n",
       "      <th>1</th>\n",
       "      <td>4</td>\n",
       "      <td>3</td>\n",
       "      <td>2</td>\n",
       "      <td>5</td>\n",
       "      <td>4</td>\n",
       "      <td>3</td>\n",
       "      <td>2</td>\n",
       "      <td>2</td>\n",
       "    </tr>\n",
       "    <tr>\n",
       "      <th>2</th>\n",
       "      <td>3</td>\n",
       "      <td>4</td>\n",
       "      <td>3</td>\n",
       "      <td>3</td>\n",
       "      <td>3</td>\n",
       "      <td>4</td>\n",
       "      <td>3</td>\n",
       "      <td>3</td>\n",
       "    </tr>\n",
       "    <tr>\n",
       "      <th>3</th>\n",
       "      <td>3</td>\n",
       "      <td>3</td>\n",
       "      <td>2</td>\n",
       "      <td>1</td>\n",
       "      <td>3</td>\n",
       "      <td>3</td>\n",
       "      <td>2</td>\n",
       "      <td>2</td>\n",
       "    </tr>\n",
       "    <tr>\n",
       "      <th>4</th>\n",
       "      <td>1</td>\n",
       "      <td>2</td>\n",
       "      <td>4</td>\n",
       "      <td>2</td>\n",
       "      <td>1</td>\n",
       "      <td>2</td>\n",
       "      <td>4</td>\n",
       "      <td>4</td>\n",
       "    </tr>\n",
       "  </tbody>\n",
       "</table>\n",
       "</div>"
      ],
      "text/plain": [
       "  Resource 1 Resource 2 Resource 3 Start Event Task 1 Task 2 Task 3 End Event\n",
       "0          2          1          0           3      2      1      0         0\n",
       "1          4          3          2           5      4      3      2         2\n",
       "2          3          4          3           3      3      4      3         3\n",
       "3          3          3          2           1      3      3      2         2\n",
       "4          1          2          4           2      1      2      4         4"
      ]
     },
     "execution_count": 6,
     "metadata": {},
     "output_type": "execute_result"
    }
   ],
   "source": [
    "# data_aggregate = data_aggregate[data_aggregate['hour'] > 8]\n",
    "# data_aggregate = data_aggregate[data_aggregate['hour'] <17]\n",
    "data_aggregate.drop(columns=['hour'], inplace=True)\n",
    "data_aggregate.head()"
   ]
  },
  {
   "cell_type": "code",
   "execution_count": 7,
   "metadata": {},
   "outputs": [],
   "source": [
    "data_aggregate.to_csv(csv_filename, index=False)"
   ]
  },
  {
   "cell_type": "markdown",
   "metadata": {},
   "source": [
    "## Step 3 - Perform Structure Learning\n",
    "\n",
    "In general, causal discovery is a hard problem. We use the BPMN model to guide causal discovery. \n",
    "\n",
    "This step is done in R.\n",
    "\n",
    "```\n",
    "library(bnlearn)\n",
    "\n",
    "# edit input CSV filename\n",
    "csv_filename <- \"~/Documents/dev/bpm-causal/ipynb/new_aggregate.csv\";\n",
    "\n",
    "# read data\n",
    "data <- read.csv(csv_filename);\n",
    "# data[] <- lapply(data, as.factor)\n",
    "data[] <- lapply(data, as.numeric)\n",
    "\n",
    "# define blacklisted edges\n",
    "partial_order = list(\n",
    "  c(\"Start.Event\"), \n",
    "  c(\"Task.1\", \"Resource.1\"), \n",
    "  c(\"Task.2\", \"Resource.2\"), \n",
    "  c(\"Task.3\"), \n",
    "  c(\"End.Event\"))\n",
    "blacklist_edges <- tiers2blacklist(partial_order)\n",
    "\n",
    "# add additional blacklisted edges\n",
    "blacklist_edges <- rbind(blacklist_edges, c(\"Resource.1\", \"Resource.2\"))\n",
    "blacklist_edges <- rbind(blacklist_edges, c(\"Start.Event\", \"Resource.2\"))\n",
    "\n",
    "causal_model <- tabu(data, blacklist = blacklist_edges)\n",
    "\n",
    "plot(causal_model)\n",
    "print(causal_model[\"arcs\"])\n",
    "```\n",
    "\n",
    "Copy paste the output."
   ]
  },
  {
   "cell_type": "code",
   "execution_count": 12,
   "metadata": {},
   "outputs": [],
   "source": [
    "# edit this according to R output\n",
    "edges_list_str = \"\"\"\n",
    "[1,] \"Resource.1\"  \"Task.1\"   \n",
    "[2,] \"Resource.2\"  \"Task.2\"   \n",
    "[3,] \"Resource.3\"  \"Task.3\"   \n",
    "[4,] \"Start.Event\" \"Task.1\"   \n",
    "[5,] \"Task.1\"      \"Task.2\"   \n",
    "[6,] \"Task.2\"      \"Task.3\"   \n",
    "[7,] \"Task.3\"      \"End.Event\"          \"\"\""
   ]
  },
  {
   "cell_type": "code",
   "execution_count": 13,
   "metadata": {},
   "outputs": [
    {
     "data": {
      "text/plain": [
       "[('Resource 1', 'Task 1'),\n",
       " ('Resource 2', 'Task 2'),\n",
       " ('Resource 3', 'Task 3'),\n",
       " ('Start Event', 'Task 1'),\n",
       " ('Task 1', 'Task 2'),\n",
       " ('Task 2', 'Task 3'),\n",
       " ('Task 3', 'End Event')]"
      ]
     },
     "execution_count": 13,
     "metadata": {},
     "output_type": "execute_result"
    }
   ],
   "source": [
    "edges_list = []\n",
    "for line in edges_list_str.split(\"\\n\"):\n",
    "    line = line.strip().split(' ')\n",
    "    line = list(filter(lambda x: len(x) > 0, line))\n",
    "    if len(line) < 3:\n",
    "        continue\n",
    "    edges_list.append((line[1][1:-1], line[2][1:-1]))\n",
    "edges_list = [(a.replace('.', ' '), b.replace('.', ' ')) for (a, b) in edges_list]\n",
    "edges_list"
   ]
  },
  {
   "cell_type": "markdown",
   "metadata": {},
   "source": [
    "## Step 4 - Causal Inference\n",
    "\n",
    "Causal Inference has four steps - \n",
    "1. **Model** a causal inference problem using assumptions.\n",
    "2. **Identify** an expression for the causal effect under these assumptions (“causal estimand”).\n",
    "3. **Estimate** the expression using statistical methods such as matching or instrumental variables.\n",
    "4. Finally, **verify validity** of the estimate using a variety of robustness checks."
   ]
  },
  {
   "cell_type": "code",
   "execution_count": 366,
   "metadata": {},
   "outputs": [],
   "source": [
    "# ideal edge list \n",
    "# edges_list = [('Start Event', \"Task 1\"),\n",
    "#               ('Task 1', \"Task 2\"),\n",
    "#               ('Task 2', \"Task 3\"),\n",
    "#               ('Task 3', \"End Event\"),\n",
    "#               ('Resource 1', 'Task 1'),\n",
    "#               ('Resource 2', 'Task 2'),\n",
    "#               ('Resource 3', 'Task 3')]"
   ]
  },
  {
   "cell_type": "code",
   "execution_count": 14,
   "metadata": {},
   "outputs": [],
   "source": [
    "lucas_graph = nx.DiGraph()\n",
    "lucas_graph.add_edges_from(edges_list)\n",
    "\n",
    "# nx.draw_circular(lucas_graph, with_labels=True, font_weight='bold')"
   ]
  },
  {
   "cell_type": "markdown",
   "metadata": {},
   "source": [
    "### Visualize the model"
   ]
  },
  {
   "cell_type": "code",
   "execution_count": 16,
   "metadata": {},
   "outputs": [
    {
     "name": "stdout",
     "output_type": "stream",
     "text": [
      "Model to find the causal effect of treatment Resource 1 on outcome Task 3\n"
     ]
    },
    {
     "name": "stderr",
     "output_type": "stream",
     "text": [
      "/Users/tanmayee/anaconda/envs/py36/lib/python3.6/site-packages/pygraphviz/agraph.py:1341: RuntimeWarning: Warning: Could not load \"/Users/tanmayee/anaconda/envs/py36/lib/graphviz/libgvplugin_pango.6.dylib\" - file not found\n",
      "Warning: Could not load \"/Users/tanmayee/anaconda/envs/py36/lib/graphviz/libgvplugin_pango.6.dylib\" - file not found\n",
      "Warning: Could not load \"/Users/tanmayee/anaconda/envs/py36/lib/graphviz/libgvplugin_pango.6.dylib\" - file not found\n",
      "\n",
      "  warnings.warn(b\"\".join(errors).decode(self.encoding), RuntimeWarning)\n"
     ]
    },
    {
     "data": {
      "image/png": "[encoded data removed]",
      "text/plain": [
       "<IPython.core.display.Image object>"
      ]
     },
     "metadata": {},
     "output_type": "display_data"
    }
   ],
   "source": [
    "lucas_graph_str = ''.join(list(nx.generate_gml(lucas_graph)))\n",
    "\n",
    "lucas_model = CausalModel(\n",
    "                data = data_aggregate,\n",
    "                treatment=\"Resource 1\",\n",
    "                outcome=\"Task 3\",\n",
    "                graph=lucas_graph_str\n",
    "                )\n",
    "lucas_model.view_model()\n",
    "from IPython.display import Image, display\n",
    "display(Image(filename=\"causal_model.png\"))"
   ]
  },
  {
   "cell_type": "markdown",
   "metadata": {},
   "source": [
    "------\n",
    "## Structural Causal Model Framework\n",
    "\n",
    "In the initial simulation, `Resource_1` performs `Task 1` in $\\mathcal{N}(20, 15)$, which is $3$ tasks per hour on average.\n",
    "\n",
    "What if `Resource 1` was optimised to perform $6$ tasks per hour instead?"
   ]
  },
  {
   "cell_type": "code",
   "execution_count": 17,
   "metadata": {},
   "outputs": [],
   "source": [
    "import numpy as np\n",
    "from sklearn.linear_model import LinearRegression, Lasso, Ridge\n",
    "from sklearn.svm import SVR\n",
    "from sklearn.model_selection import train_test_split"
   ]
  },
  {
   "cell_type": "code",
   "execution_count": 18,
   "metadata": {},
   "outputs": [
    {
     "name": "stdout",
     "output_type": "stream",
     "text": [
      "0.9970116729843364\n",
      "1.0 -5.772117060787174e-05 0.9999999841226589\n",
      "Task 1\tLinear\t1.0\n",
      "0.9971708870345319\n",
      "1.0 -0.00015065983927531335 0.9999999709232512\n",
      "Task 2\tLinear\t1.0\n",
      "0.9966865984576468\n",
      "1.0 -3.5881926244929474e-05 0.9999999800461216\n",
      "Task 3\tLinear\t1.0\n",
      "0.9968767076990671\n",
      "1.0 -0.0018681788435699342 0.9999999944339701\n",
      "End Event\tLinear\t1.0\n"
     ]
    }
   ],
   "source": [
    "scm_function_list = {}\n",
    "for node in lucas_graph.nodes():\n",
    "    parents = list(lucas_graph.predecessors(node))\n",
    "    if len(parents) == 0:\n",
    "        continue\n",
    "    X = data_aggregate[list(lucas_graph.predecessors(node))]\n",
    "    Y = data_aggregate[node]\n",
    "    \n",
    "    X_train, X_test, Y_train, Y_test = train_test_split(X, Y)\n",
    "    \n",
    "    # try linear regression, lasso and ridge\n",
    "    _linear = LinearRegression().fit(X_train, Y_train)\n",
    "    _lasso = Lasso().fit(X_train, Y_train)\n",
    "    _ridge = Ridge().fit(X_train, Y_train)\n",
    "    _svr = SVR(epsilon=0.05).fit(X_train, Y_train)\n",
    "    \n",
    "    print(_svr.score(X_test, Y_test))\n",
    "    \n",
    "    _linear_score, _lasso_score, _ridge_score = _linear.score(X_test, Y_test), _lasso.score(X_test, Y_test), _ridge.score(X_test, Y_test)\n",
    "    print(_linear_score, _lasso_score, _ridge_score)\n",
    "    \n",
    "    if max([_linear_score, _lasso_score, _ridge_score]) == _linear_score:\n",
    "        print(\"{0}\\tLinear\\t{1}\".format(node, _linear_score))\n",
    "        scm_function_list[node] = {'model': _linear,\n",
    "                              'parents': list(lucas_graph.predecessors(node))}\n",
    "    elif max([_linear_score, _lasso_score, _ridge_score]) == _lasso_score:\n",
    "        print(\"{0}\\tLasso\\t{1}\".format(node, _lasso_score))\n",
    "        scm_function_list[node] = {'model': _lasso,\n",
    "                              'parents': list(lucas_graph.predecessors(node))}\n",
    "    else:\n",
    "        print(\"{0}\\tRidge\\t{1}\".format(node, _ridge_score))\n",
    "        scm_function_list[node] = {'model': _ridge,\n",
    "                              'parents': list(lucas_graph.predecessors(node))}"
   ]
  },
  {
   "cell_type": "code",
   "execution_count": 19,
   "metadata": {},
   "outputs": [
    {
     "data": {
      "text/plain": [
       "{'End Event': {'model': LinearRegression(copy_X=True, fit_intercept=True, n_jobs=1, normalize=False),\n",
       "  'parents': ['Task 3']},\n",
       " 'Task 1': {'model': LinearRegression(copy_X=True, fit_intercept=True, n_jobs=1, normalize=False),\n",
       "  'parents': ['Resource 1', 'Start Event']},\n",
       " 'Task 2': {'model': LinearRegression(copy_X=True, fit_intercept=True, n_jobs=1, normalize=False),\n",
       "  'parents': ['Resource 2', 'Task 1']},\n",
       " 'Task 3': {'model': LinearRegression(copy_X=True, fit_intercept=True, n_jobs=1, normalize=False),\n",
       "  'parents': ['Resource 3', 'Task 2']}}"
      ]
     },
     "execution_count": 19,
     "metadata": {},
     "output_type": "execute_result"
    }
   ],
   "source": [
    "scm_function_list"
   ]
  },
  {
   "cell_type": "markdown",
   "metadata": {},
   "source": [
    "---"
   ]
  },
  {
   "cell_type": "code",
   "execution_count": 70,
   "metadata": {},
   "outputs": [
    {
     "name": "stdout",
     "output_type": "stream",
     "text": [
      "6 [0.47553379] [0.47553379] [0.47553379] [0.47553379]\n"
     ]
    }
   ],
   "source": [
    "# intervene on start_event\n",
    "start_event = 6 \n",
    "\n",
    "X = np.array([np.mean(data_aggregate['Resource 1']), start_event]).reshape((1, -1))\n",
    "task_1 = scm_function_list['Task 1']['model'].predict(X)\n",
    "task_1\n",
    "\n",
    "X = np.array([np.mean(data_aggregate['Resource 2']),\n",
    "              task_1])\n",
    "X = X.reshape((1, -1))\n",
    "task_2 = scm_function_list['Task 2']['model'].predict(X)\n",
    "task_2\n",
    "\n",
    "X = np.array([np.mean(data_aggregate['Resource 3']),\n",
    "             task_2])\n",
    "X = X.reshape((1, -1))\n",
    "task_3 = scm_function_list['Task 3']['model'].predict(X)\n",
    "task_3\n",
    "\n",
    "X = np.array([ task_3])\n",
    "X = X.reshape((1, -1))\n",
    "end_event = scm_function_list['End Event']['model'].predict(X)\n",
    "end_event\n",
    "\n",
    "print(start_event, task_1, task_2, task_3, end_event)"
   ]
  },
  {
   "cell_type": "code",
   "execution_count": 67,
   "metadata": {},
   "outputs": [
    {
     "name": "stderr",
     "output_type": "stream",
     "text": [
      "100%|██████████| 10000/10000 [07:23<00:00, 22.53it/s]\n"
     ]
    },
    {
     "data": {
      "text/html": [
       "<div>\n",
       "<style scoped>\n",
       "    .dataframe tbody tr th:only-of-type {\n",
       "        vertical-align: middle;\n",
       "    }\n",
       "\n",
       "    .dataframe tbody tr th {\n",
       "        vertical-align: top;\n",
       "    }\n",
       "\n",
       "    .dataframe thead th {\n",
       "        text-align: right;\n",
       "    }\n",
       "</style>\n",
       "<table border=\"1\" class=\"dataframe\">\n",
       "  <thead>\n",
       "    <tr style=\"text-align: right;\">\n",
       "      <th></th>\n",
       "      <th>case_id</th>\n",
       "      <th>activity</th>\n",
       "      <th>resource</th>\n",
       "      <th>complete_timestamp</th>\n",
       "    </tr>\n",
       "  </thead>\n",
       "  <tbody>\n",
       "    <tr>\n",
       "      <th>0</th>\n",
       "      <td>2182</td>\n",
       "      <td>Start Event</td>\n",
       "      <td>None</td>\n",
       "      <td>2019-04-25T12:40:00.000+00:00</td>\n",
       "    </tr>\n",
       "    <tr>\n",
       "      <th>1</th>\n",
       "      <td>2182</td>\n",
       "      <td>Task 1</td>\n",
       "      <td>Resource 1</td>\n",
       "      <td>2019-04-25T17:03:29.248+00:00</td>\n",
       "    </tr>\n",
       "    <tr>\n",
       "      <th>2</th>\n",
       "      <td>2182</td>\n",
       "      <td>Task 2</td>\n",
       "      <td>Resource 2</td>\n",
       "      <td>2019-04-25T17:30:05.304+00:00</td>\n",
       "    </tr>\n",
       "    <tr>\n",
       "      <th>3</th>\n",
       "      <td>2182</td>\n",
       "      <td>Task 3</td>\n",
       "      <td>Resource 3</td>\n",
       "      <td>2019-04-25T18:04:06.421+00:00</td>\n",
       "    </tr>\n",
       "    <tr>\n",
       "      <th>4</th>\n",
       "      <td>2182</td>\n",
       "      <td>End Event</td>\n",
       "      <td>None</td>\n",
       "      <td>2019-04-25T18:04:06.421+00:00</td>\n",
       "    </tr>\n",
       "  </tbody>\n",
       "</table>\n",
       "</div>"
      ],
      "text/plain": [
       "  case_id     activity    resource             complete_timestamp\n",
       "0    2182  Start Event        None  2019-04-25T12:40:00.000+00:00\n",
       "1    2182       Task 1  Resource 1  2019-04-25T17:03:29.248+00:00\n",
       "2    2182       Task 2  Resource 2  2019-04-25T17:30:05.304+00:00\n",
       "3    2182       Task 3  Resource 3  2019-04-25T18:04:06.421+00:00\n",
       "4    2182    End Event        None  2019-04-25T18:04:06.421+00:00"
      ]
     },
     "execution_count": 67,
     "metadata": {},
     "output_type": "execute_result"
    }
   ],
   "source": [
    "# change this as required\n",
    "mxml_filename = '../data/logs/A.1.v2.2.intervention_simulation_logs'\n",
    "groupby_time_frequency = 'H'\n",
    "\n",
    "# calculates aggregates\n",
    "df = pd.DataFrame(columns=['case_id', 'activity', 'resource', 'complete_timestamp'])\n",
    "\n",
    "with open(mxml_filename) as f:\n",
    "    doc = xmltodict.parse(f.read())\n",
    "\n",
    "for instance in tqdm(doc['WorkflowLog']['Process']['ProcessInstance']):\n",
    "    case_id = instance['@id']\n",
    "    resource = None\n",
    "    iterator = instance['AuditTrailEntry']\n",
    "    iterator.sort(key=lambda x: x['Timestamp'])\n",
    "    for entry in iterator:\n",
    "        if entry['EventType'] == 'assign':\n",
    "            try:\n",
    "                resource = entry['Originator']\n",
    "            except KeyError:\n",
    "                resource = None\n",
    "            continue\n",
    "        df = df.append({\n",
    "            'case_id': case_id,\n",
    "            'activity': entry['WorkflowModelElement'],\n",
    "            'resource': resource,\n",
    "            'complete_timestamp': entry['Timestamp']\n",
    "        }, ignore_index=True)\n",
    "\n",
    "df.head()"
   ]
  },
  {
   "cell_type": "code",
   "execution_count": 69,
   "metadata": {},
   "outputs": [
    {
     "name": "stderr",
     "output_type": "stream",
     "text": [
      "100%|██████████| 7014/7014 [00:36<00:00, 194.27it/s]\n"
     ]
    },
    {
     "data": {
      "text/html": [
       "<div>\n",
       "<style scoped>\n",
       "    .dataframe tbody tr th:only-of-type {\n",
       "        vertical-align: middle;\n",
       "    }\n",
       "\n",
       "    .dataframe tbody tr th {\n",
       "        vertical-align: top;\n",
       "    }\n",
       "\n",
       "    .dataframe thead th {\n",
       "        text-align: right;\n",
       "    }\n",
       "</style>\n",
       "<table border=\"1\" class=\"dataframe\">\n",
       "  <thead>\n",
       "    <tr style=\"text-align: right;\">\n",
       "      <th></th>\n",
       "      <th>Resource 1</th>\n",
       "      <th>Resource 2</th>\n",
       "      <th>Resource 3</th>\n",
       "      <th>Start Event</th>\n",
       "      <th>Task 1</th>\n",
       "      <th>Task 2</th>\n",
       "      <th>Task 3</th>\n",
       "      <th>End Event</th>\n",
       "      <th>hour</th>\n",
       "    </tr>\n",
       "  </thead>\n",
       "  <tbody>\n",
       "    <tr>\n",
       "      <th>0</th>\n",
       "      <td>3</td>\n",
       "      <td>1</td>\n",
       "      <td>1</td>\n",
       "      <td>6</td>\n",
       "      <td>3</td>\n",
       "      <td>1</td>\n",
       "      <td>1</td>\n",
       "      <td>1</td>\n",
       "      <td>9</td>\n",
       "    </tr>\n",
       "    <tr>\n",
       "      <th>1</th>\n",
       "      <td>3</td>\n",
       "      <td>4</td>\n",
       "      <td>2</td>\n",
       "      <td>6</td>\n",
       "      <td>3</td>\n",
       "      <td>4</td>\n",
       "      <td>2</td>\n",
       "      <td>2</td>\n",
       "      <td>10</td>\n",
       "    </tr>\n",
       "    <tr>\n",
       "      <th>2</th>\n",
       "      <td>2</td>\n",
       "      <td>2</td>\n",
       "      <td>2</td>\n",
       "      <td>6</td>\n",
       "      <td>2</td>\n",
       "      <td>2</td>\n",
       "      <td>2</td>\n",
       "      <td>2</td>\n",
       "      <td>11</td>\n",
       "    </tr>\n",
       "    <tr>\n",
       "      <th>3</th>\n",
       "      <td>3</td>\n",
       "      <td>4</td>\n",
       "      <td>3</td>\n",
       "      <td>6</td>\n",
       "      <td>3</td>\n",
       "      <td>4</td>\n",
       "      <td>3</td>\n",
       "      <td>3</td>\n",
       "      <td>12</td>\n",
       "    </tr>\n",
       "    <tr>\n",
       "      <th>4</th>\n",
       "      <td>5</td>\n",
       "      <td>3</td>\n",
       "      <td>2</td>\n",
       "      <td>6</td>\n",
       "      <td>5</td>\n",
       "      <td>3</td>\n",
       "      <td>2</td>\n",
       "      <td>2</td>\n",
       "      <td>13</td>\n",
       "    </tr>\n",
       "  </tbody>\n",
       "</table>\n",
       "</div>"
      ],
      "text/plain": [
       "  Resource 1 Resource 2 Resource 3 Start Event Task 1 Task 2 Task 3 End Event  \\\n",
       "0          3          1          1           6      3      1      1         1   \n",
       "1          3          4          2           6      3      4      2         2   \n",
       "2          2          2          2           6      2      2      2         2   \n",
       "3          3          4          3           6      3      4      3         3   \n",
       "4          5          3          2           6      5      3      2         2   \n",
       "\n",
       "   hour  \n",
       "0     9  \n",
       "1    10  \n",
       "2    11  \n",
       "3    12  \n",
       "4    13  "
      ]
     },
     "execution_count": 69,
     "metadata": {},
     "output_type": "execute_result"
    }
   ],
   "source": [
    "df['completion_datetime'] = pd.to_datetime(df.complete_timestamp, format='%Y-%m-%dT%H:%M:%S.%f+00:00')\n",
    "df.drop(columns='complete_timestamp', inplace=True)\n",
    "df.fillna('None', inplace=True)\n",
    "    \n",
    "all_columns = ['timestamp'] + list(df['resource'].unique()) + list(df['activity'].unique())\n",
    "inter_data_aggregate = pd.DataFrame(columns=all_columns)\n",
    "\n",
    "grouped = df.groupby(pd.Grouper(key='completion_datetime', freq=groupby_time_frequency))\n",
    "for name1, group1 in tqdm(grouped):\n",
    "    temp_row = {key: 0 for key in all_columns}\n",
    "    temp_row['timestamp'] = name1\n",
    "    for name2, group2 in group1.groupby(['activity', 'resource']):\n",
    "        count = len(group2['case_id'].unique())\n",
    "        try:\n",
    "            temp_row[name2[0]] += count\n",
    "        except KeyError:\n",
    "            pass\n",
    "        try:\n",
    "            temp_row[name2[1]] += count\n",
    "        except KeyError:\n",
    "            pass\n",
    "    inter_data_aggregate = inter_data_aggregate.append(temp_row, ignore_index=True)\n",
    "\n",
    "inter_data_aggregate['hour'] = inter_data_aggregate['timestamp'].apply(lambda x: x.hour)\n",
    "inter_data_aggregate.drop(columns=['timestamp', 'None'], inplace=True)\n",
    "inter_data_aggregate.head()"
   ]
  },
  {
   "cell_type": "code",
   "execution_count": 74,
   "metadata": {},
   "outputs": [
    {
     "data": {
      "text/plain": [
       "Resource 1      1.42572\n",
       "Resource 2      1.42572\n",
       "Resource 3      1.42572\n",
       "Start Event     1.42572\n",
       "Task 1          1.42572\n",
       "Task 2          1.42572\n",
       "Task 3          1.42572\n",
       "End Event       1.42572\n",
       "hour           11.50000\n",
       "dtype: float64"
      ]
     },
     "execution_count": 74,
     "metadata": {},
     "output_type": "execute_result"
    }
   ],
   "source": [
    "inter_data_aggregate.mean()"
   ]
  },
  {
   "cell_type": "markdown",
   "metadata": {},
   "source": [
    "----"
   ]
  },
  {
   "cell_type": "code",
   "execution_count": 75,
   "metadata": {},
   "outputs": [
    {
     "data": {
      "text/plain": [
       "0    15707\n",
       "2     2217\n",
       "1     1948\n",
       "3     1013\n",
       "4      141\n",
       "5        3\n",
       "Name: Resource 2, dtype: int64"
      ]
     },
     "execution_count": 75,
     "metadata": {},
     "output_type": "execute_result"
    }
   ],
   "source": [
    "data_aggregate['Resource 2'].value_counts()"
   ]
  },
  {
   "cell_type": "code",
   "execution_count": 78,
   "metadata": {},
   "outputs": [
    {
     "name": "stdout",
     "output_type": "stream",
     "text": [
      "[0.47553379] [3.] [0.47553379] [0.47553379]\n"
     ]
    }
   ],
   "source": [
    "# intervene on resource_2\n",
    "resource_2 = 3\n",
    "\n",
    "X = np.array([np.mean(data_aggregate['Resource 1']), np.mean(data_aggregate['Start Event'])]).reshape((1, -1))\n",
    "task_1 = scm_function_list['Task 1']['model'].predict(X)\n",
    "task_1\n",
    "\n",
    "X = np.array([resource_2,\n",
    "              task_1])\n",
    "X = X.reshape((1, -1))\n",
    "task_2 = scm_function_list['Task 2']['model'].predict(X)\n",
    "task_2\n",
    "\n",
    "X = np.array([np.mean(data_aggregate['Resource 3']),\n",
    "             task_2])\n",
    "X = X.reshape((1, -1))\n",
    "task_3 = scm_function_list['Task 3']['model'].predict(X)\n",
    "task_3\n",
    "\n",
    "X = np.array([ task_3])\n",
    "X = X.reshape((1, -1))\n",
    "end_event = scm_function_list['End Event']['model'].predict(X)\n",
    "end_event\n",
    "\n",
    "print(task_1, task_2, task_3, end_event)"
   ]
  },
  {
   "cell_type": "code",
   "execution_count": 79,
   "metadata": {},
   "outputs": [
    {
     "name": "stderr",
     "output_type": "stream",
     "text": [
      "100%|██████████| 10000/10000 [07:36<00:00, 21.89it/s]\n"
     ]
    },
    {
     "data": {
      "text/html": [
       "<div>\n",
       "<style scoped>\n",
       "    .dataframe tbody tr th:only-of-type {\n",
       "        vertical-align: middle;\n",
       "    }\n",
       "\n",
       "    .dataframe tbody tr th {\n",
       "        vertical-align: top;\n",
       "    }\n",
       "\n",
       "    .dataframe thead th {\n",
       "        text-align: right;\n",
       "    }\n",
       "</style>\n",
       "<table border=\"1\" class=\"dataframe\">\n",
       "  <thead>\n",
       "    <tr style=\"text-align: right;\">\n",
       "      <th></th>\n",
       "      <th>case_id</th>\n",
       "      <th>activity</th>\n",
       "      <th>resource</th>\n",
       "      <th>complete_timestamp</th>\n",
       "    </tr>\n",
       "  </thead>\n",
       "  <tbody>\n",
       "    <tr>\n",
       "      <th>0</th>\n",
       "      <td>2182</td>\n",
       "      <td>Start Event</td>\n",
       "      <td>None</td>\n",
       "      <td>2019-09-02T13:13:29.584+00:00</td>\n",
       "    </tr>\n",
       "    <tr>\n",
       "      <th>1</th>\n",
       "      <td>2182</td>\n",
       "      <td>Task 1</td>\n",
       "      <td>Resource 1</td>\n",
       "      <td>2019-09-02T13:58:05.657+00:00</td>\n",
       "    </tr>\n",
       "    <tr>\n",
       "      <th>2</th>\n",
       "      <td>2182</td>\n",
       "      <td>Task 2</td>\n",
       "      <td>Resource 2</td>\n",
       "      <td>2019-09-02T14:19:34.873+00:00</td>\n",
       "    </tr>\n",
       "    <tr>\n",
       "      <th>3</th>\n",
       "      <td>2182</td>\n",
       "      <td>Task 3</td>\n",
       "      <td>Resource 3</td>\n",
       "      <td>2019-09-02T14:46:57.365+00:00</td>\n",
       "    </tr>\n",
       "    <tr>\n",
       "      <th>4</th>\n",
       "      <td>2182</td>\n",
       "      <td>End Event</td>\n",
       "      <td>None</td>\n",
       "      <td>2019-09-02T14:46:57.365+00:00</td>\n",
       "    </tr>\n",
       "  </tbody>\n",
       "</table>\n",
       "</div>"
      ],
      "text/plain": [
       "  case_id     activity    resource             complete_timestamp\n",
       "0    2182  Start Event        None  2019-09-02T13:13:29.584+00:00\n",
       "1    2182       Task 1  Resource 1  2019-09-02T13:58:05.657+00:00\n",
       "2    2182       Task 2  Resource 2  2019-09-02T14:19:34.873+00:00\n",
       "3    2182       Task 3  Resource 3  2019-09-02T14:46:57.365+00:00\n",
       "4    2182    End Event        None  2019-09-02T14:46:57.365+00:00"
      ]
     },
     "execution_count": 79,
     "metadata": {},
     "output_type": "execute_result"
    }
   ],
   "source": [
    "# change this as required\n",
    "mxml_filename = '../data/logs/A.1.v2.3.intervention_simulation_logs'\n",
    "groupby_time_frequency = 'H'\n",
    "\n",
    "# calculates aggregates\n",
    "df = pd.DataFrame(columns=['case_id', 'activity', 'resource', 'complete_timestamp'])\n",
    "\n",
    "with open(mxml_filename) as f:\n",
    "    doc = xmltodict.parse(f.read())\n",
    "\n",
    "for instance in tqdm(doc['WorkflowLog']['Process']['ProcessInstance']):\n",
    "    case_id = instance['@id']\n",
    "    resource = None\n",
    "    iterator = instance['AuditTrailEntry']\n",
    "    iterator.sort(key=lambda x: x['Timestamp'])\n",
    "    for entry in iterator:\n",
    "        if entry['EventType'] == 'assign':\n",
    "            try:\n",
    "                resource = entry['Originator']\n",
    "            except KeyError:\n",
    "                resource = None\n",
    "            continue\n",
    "        df = df.append({\n",
    "            'case_id': case_id,\n",
    "            'activity': entry['WorkflowModelElement'],\n",
    "            'resource': resource,\n",
    "            'complete_timestamp': entry['Timestamp']\n",
    "        }, ignore_index=True)\n",
    "\n",
    "df.head()"
   ]
  },
  {
   "cell_type": "code",
   "execution_count": 80,
   "metadata": {},
   "outputs": [
    {
     "name": "stderr",
     "output_type": "stream",
     "text": [
      "100%|██████████| 21009/21009 [02:27<00:00, 142.47it/s]\n"
     ]
    },
    {
     "data": {
      "text/html": [
       "<div>\n",
       "<style scoped>\n",
       "    .dataframe tbody tr th:only-of-type {\n",
       "        vertical-align: middle;\n",
       "    }\n",
       "\n",
       "    .dataframe tbody tr th {\n",
       "        vertical-align: top;\n",
       "    }\n",
       "\n",
       "    .dataframe thead th {\n",
       "        text-align: right;\n",
       "    }\n",
       "</style>\n",
       "<table border=\"1\" class=\"dataframe\">\n",
       "  <thead>\n",
       "    <tr style=\"text-align: right;\">\n",
       "      <th></th>\n",
       "      <th>Resource 1</th>\n",
       "      <th>Resource 2</th>\n",
       "      <th>Resource 3</th>\n",
       "      <th>Start Event</th>\n",
       "      <th>Task 1</th>\n",
       "      <th>Task 2</th>\n",
       "      <th>Task 3</th>\n",
       "      <th>End Event</th>\n",
       "      <th>hour</th>\n",
       "    </tr>\n",
       "  </thead>\n",
       "  <tbody>\n",
       "    <tr>\n",
       "      <th>0</th>\n",
       "      <td>2</td>\n",
       "      <td>1</td>\n",
       "      <td>0</td>\n",
       "      <td>4</td>\n",
       "      <td>2</td>\n",
       "      <td>1</td>\n",
       "      <td>0</td>\n",
       "      <td>0</td>\n",
       "      <td>9</td>\n",
       "    </tr>\n",
       "    <tr>\n",
       "      <th>1</th>\n",
       "      <td>3</td>\n",
       "      <td>3</td>\n",
       "      <td>3</td>\n",
       "      <td>1</td>\n",
       "      <td>3</td>\n",
       "      <td>3</td>\n",
       "      <td>3</td>\n",
       "      <td>3</td>\n",
       "      <td>10</td>\n",
       "    </tr>\n",
       "    <tr>\n",
       "      <th>2</th>\n",
       "      <td>2</td>\n",
       "      <td>2</td>\n",
       "      <td>2</td>\n",
       "      <td>3</td>\n",
       "      <td>2</td>\n",
       "      <td>2</td>\n",
       "      <td>2</td>\n",
       "      <td>2</td>\n",
       "      <td>11</td>\n",
       "    </tr>\n",
       "    <tr>\n",
       "      <th>3</th>\n",
       "      <td>1</td>\n",
       "      <td>2</td>\n",
       "      <td>2</td>\n",
       "      <td>1</td>\n",
       "      <td>1</td>\n",
       "      <td>2</td>\n",
       "      <td>2</td>\n",
       "      <td>2</td>\n",
       "      <td>12</td>\n",
       "    </tr>\n",
       "    <tr>\n",
       "      <th>4</th>\n",
       "      <td>2</td>\n",
       "      <td>2</td>\n",
       "      <td>3</td>\n",
       "      <td>2</td>\n",
       "      <td>2</td>\n",
       "      <td>2</td>\n",
       "      <td>3</td>\n",
       "      <td>3</td>\n",
       "      <td>13</td>\n",
       "    </tr>\n",
       "  </tbody>\n",
       "</table>\n",
       "</div>"
      ],
      "text/plain": [
       "  Resource 1 Resource 2 Resource 3 Start Event Task 1 Task 2 Task 3 End Event  \\\n",
       "0          2          1          0           4      2      1      0         0   \n",
       "1          3          3          3           1      3      3      3         3   \n",
       "2          2          2          2           3      2      2      2         2   \n",
       "3          1          2          2           1      1      2      2         2   \n",
       "4          2          2          3           2      2      2      3         3   \n",
       "\n",
       "   hour  \n",
       "0     9  \n",
       "1    10  \n",
       "2    11  \n",
       "3    12  \n",
       "4    13  "
      ]
     },
     "execution_count": 80,
     "metadata": {},
     "output_type": "execute_result"
    }
   ],
   "source": [
    "df['completion_datetime'] = pd.to_datetime(df.complete_timestamp, format='%Y-%m-%dT%H:%M:%S.%f+00:00')\n",
    "df.drop(columns='complete_timestamp', inplace=True)\n",
    "df.fillna('None', inplace=True)\n",
    "    \n",
    "all_columns = ['timestamp'] + list(df['resource'].unique()) + list(df['activity'].unique())\n",
    "inter_data_aggregate = pd.DataFrame(columns=all_columns)\n",
    "\n",
    "grouped = df.groupby(pd.Grouper(key='completion_datetime', freq=groupby_time_frequency))\n",
    "for name1, group1 in tqdm(grouped):\n",
    "    temp_row = {key: 0 for key in all_columns}\n",
    "    temp_row['timestamp'] = name1\n",
    "    for name2, group2 in group1.groupby(['activity', 'resource']):\n",
    "        count = len(group2['case_id'].unique())\n",
    "        try:\n",
    "            temp_row[name2[0]] += count\n",
    "        except KeyError:\n",
    "            pass\n",
    "        try:\n",
    "            temp_row[name2[1]] += count\n",
    "        except KeyError:\n",
    "            pass\n",
    "    inter_data_aggregate = inter_data_aggregate.append(temp_row, ignore_index=True)\n",
    "\n",
    "inter_data_aggregate['hour'] = inter_data_aggregate['timestamp'].apply(lambda x: x.hour)\n",
    "inter_data_aggregate.drop(columns=['timestamp', 'None'], inplace=True)\n",
    "inter_data_aggregate.head()"
   ]
  },
  {
   "cell_type": "code",
   "execution_count": 82,
   "metadata": {},
   "outputs": [
    {
     "data": {
      "text/plain": [
       "Resource 1      0.475986\n",
       "Resource 2      0.475986\n",
       "Resource 3      0.475986\n",
       "Start Event     0.475986\n",
       "Task 1          0.475986\n",
       "Task 2          0.475986\n",
       "Task 3          0.475986\n",
       "End Event       0.475986\n",
       "hour           11.500643\n",
       "dtype: float64"
      ]
     },
     "execution_count": 82,
     "metadata": {},
     "output_type": "execute_result"
    }
   ],
   "source": [
    "inter_data_aggregate.mean()"
   ]
  },
  {
   "cell_type": "markdown",
   "metadata": {},
   "source": [
    "----"
   ]
  },
  {
   "cell_type": "code",
   "execution_count": 84,
   "metadata": {},
   "outputs": [
    {
     "data": {
      "text/plain": [
       "0    15781\n",
       "2     2368\n",
       "1     1766\n",
       "3      969\n",
       "4      134\n",
       "5       11\n",
       "Name: Resource 3, dtype: int64"
      ]
     },
     "execution_count": 84,
     "metadata": {},
     "output_type": "execute_result"
    }
   ],
   "source": [
    "data_aggregate['Resource 3'].value_counts()"
   ]
  },
  {
   "cell_type": "code",
   "execution_count": 89,
   "metadata": {},
   "outputs": [
    {
     "name": "stdout",
     "output_type": "stream",
     "text": [
      "[0.47553379] [0.47553379] [1.] [1.]\n"
     ]
    }
   ],
   "source": [
    "# intervene on resource_3\n",
    "resource_3 = 1\n",
    "\n",
    "X = np.array([np.mean(data_aggregate['Resource 1']), np.mean(data_aggregate['Start Event'])]).reshape((1, -1))\n",
    "task_1 = scm_function_list['Task 1']['model'].predict(X)\n",
    "task_1\n",
    "\n",
    "X = np.array([np.mean(data_aggregate['Resource 2']),\n",
    "              task_1])\n",
    "X = X.reshape((1, -1))\n",
    "task_2 = scm_function_list['Task 2']['model'].predict(X)\n",
    "task_2\n",
    "\n",
    "X = np.array([resource_3,\n",
    "             task_2])\n",
    "X = X.reshape((1, -1))\n",
    "task_3 = scm_function_list['Task 3']['model'].predict(X)\n",
    "task_3\n",
    "\n",
    "X = np.array([ task_3])\n",
    "X = X.reshape((1, -1))\n",
    "end_event = scm_function_list['End Event']['model'].predict(X)\n",
    "end_event\n",
    "\n",
    "print(task_1, task_2, task_3, end_event)"
   ]
  },
  {
   "cell_type": "code",
   "execution_count": 90,
   "metadata": {},
   "outputs": [
    {
     "name": "stderr",
     "output_type": "stream",
     "text": [
      "100%|██████████| 10000/10000 [07:56<00:00, 20.98it/s]\n"
     ]
    },
    {
     "data": {
      "text/html": [
       "<div>\n",
       "<style scoped>\n",
       "    .dataframe tbody tr th:only-of-type {\n",
       "        vertical-align: middle;\n",
       "    }\n",
       "\n",
       "    .dataframe tbody tr th {\n",
       "        vertical-align: top;\n",
       "    }\n",
       "\n",
       "    .dataframe thead th {\n",
       "        text-align: right;\n",
       "    }\n",
       "</style>\n",
       "<table border=\"1\" class=\"dataframe\">\n",
       "  <thead>\n",
       "    <tr style=\"text-align: right;\">\n",
       "      <th></th>\n",
       "      <th>case_id</th>\n",
       "      <th>activity</th>\n",
       "      <th>resource</th>\n",
       "      <th>complete_timestamp</th>\n",
       "    </tr>\n",
       "  </thead>\n",
       "  <tbody>\n",
       "    <tr>\n",
       "      <th>0</th>\n",
       "      <td>2182</td>\n",
       "      <td>Start Event</td>\n",
       "      <td>None</td>\n",
       "      <td>2019-08-30T12:58:25.453+00:00</td>\n",
       "    </tr>\n",
       "    <tr>\n",
       "      <th>1</th>\n",
       "      <td>2182</td>\n",
       "      <td>Task 1</td>\n",
       "      <td>Resource 1</td>\n",
       "      <td>2019-08-30T13:44:29.969+00:00</td>\n",
       "    </tr>\n",
       "    <tr>\n",
       "      <th>2</th>\n",
       "      <td>2182</td>\n",
       "      <td>Task 2</td>\n",
       "      <td>Resource 2</td>\n",
       "      <td>2019-08-30T13:59:43.105+00:00</td>\n",
       "    </tr>\n",
       "    <tr>\n",
       "      <th>3</th>\n",
       "      <td>2182</td>\n",
       "      <td>Task 3</td>\n",
       "      <td>Resource 3</td>\n",
       "      <td>2019-08-30T20:37:55.184+00:00</td>\n",
       "    </tr>\n",
       "    <tr>\n",
       "      <th>4</th>\n",
       "      <td>2182</td>\n",
       "      <td>End Event</td>\n",
       "      <td>None</td>\n",
       "      <td>2019-08-30T20:37:55.184+00:00</td>\n",
       "    </tr>\n",
       "  </tbody>\n",
       "</table>\n",
       "</div>"
      ],
      "text/plain": [
       "  case_id     activity    resource             complete_timestamp\n",
       "0    2182  Start Event        None  2019-08-30T12:58:25.453+00:00\n",
       "1    2182       Task 1  Resource 1  2019-08-30T13:44:29.969+00:00\n",
       "2    2182       Task 2  Resource 2  2019-08-30T13:59:43.105+00:00\n",
       "3    2182       Task 3  Resource 3  2019-08-30T20:37:55.184+00:00\n",
       "4    2182    End Event        None  2019-08-30T20:37:55.184+00:00"
      ]
     },
     "execution_count": 90,
     "metadata": {},
     "output_type": "execute_result"
    }
   ],
   "source": [
    "# change this as required\n",
    "mxml_filename = '../data/logs/A.1.v2.5.intervention_simulation_logs'\n",
    "groupby_time_frequency = 'H'\n",
    "\n",
    "# calculates aggregates\n",
    "df = pd.DataFrame(columns=['case_id', 'activity', 'resource', 'complete_timestamp'])\n",
    "\n",
    "with open(mxml_filename) as f:\n",
    "    doc = xmltodict.parse(f.read())\n",
    "\n",
    "for instance in tqdm(doc['WorkflowLog']['Process']['ProcessInstance']):\n",
    "    case_id = instance['@id']\n",
    "    resource = None\n",
    "    iterator = instance['AuditTrailEntry']\n",
    "    iterator.sort(key=lambda x: x['Timestamp'])\n",
    "    for entry in iterator:\n",
    "        if entry['EventType'] == 'assign':\n",
    "            try:\n",
    "                resource = entry['Originator']\n",
    "            except KeyError:\n",
    "                resource = None\n",
    "            continue\n",
    "        df = df.append({\n",
    "            'case_id': case_id,\n",
    "            'activity': entry['WorkflowModelElement'],\n",
    "            'resource': resource,\n",
    "            'complete_timestamp': entry['Timestamp']\n",
    "        }, ignore_index=True)\n",
    "\n",
    "df.head()"
   ]
  },
  {
   "cell_type": "code",
   "execution_count": 91,
   "metadata": {},
   "outputs": [
    {
     "name": "stderr",
     "output_type": "stream",
     "text": [
      "100%|██████████| 20861/20861 [02:41<00:00, 129.01it/s]\n"
     ]
    },
    {
     "data": {
      "text/html": [
       "<div>\n",
       "<style scoped>\n",
       "    .dataframe tbody tr th:only-of-type {\n",
       "        vertical-align: middle;\n",
       "    }\n",
       "\n",
       "    .dataframe tbody tr th {\n",
       "        vertical-align: top;\n",
       "    }\n",
       "\n",
       "    .dataframe thead th {\n",
       "        text-align: right;\n",
       "    }\n",
       "</style>\n",
       "<table border=\"1\" class=\"dataframe\">\n",
       "  <thead>\n",
       "    <tr style=\"text-align: right;\">\n",
       "      <th></th>\n",
       "      <th>Resource 1</th>\n",
       "      <th>Resource 2</th>\n",
       "      <th>Resource 3</th>\n",
       "      <th>Start Event</th>\n",
       "      <th>Task 1</th>\n",
       "      <th>Task 2</th>\n",
       "      <th>Task 3</th>\n",
       "      <th>End Event</th>\n",
       "      <th>hour</th>\n",
       "    </tr>\n",
       "  </thead>\n",
       "  <tbody>\n",
       "    <tr>\n",
       "      <th>0</th>\n",
       "      <td>1</td>\n",
       "      <td>1</td>\n",
       "      <td>0</td>\n",
       "      <td>2</td>\n",
       "      <td>1</td>\n",
       "      <td>1</td>\n",
       "      <td>0</td>\n",
       "      <td>0</td>\n",
       "      <td>9</td>\n",
       "    </tr>\n",
       "    <tr>\n",
       "      <th>1</th>\n",
       "      <td>3</td>\n",
       "      <td>2</td>\n",
       "      <td>1</td>\n",
       "      <td>2</td>\n",
       "      <td>3</td>\n",
       "      <td>2</td>\n",
       "      <td>1</td>\n",
       "      <td>1</td>\n",
       "      <td>10</td>\n",
       "    </tr>\n",
       "    <tr>\n",
       "      <th>2</th>\n",
       "      <td>1</td>\n",
       "      <td>2</td>\n",
       "      <td>1</td>\n",
       "      <td>2</td>\n",
       "      <td>1</td>\n",
       "      <td>2</td>\n",
       "      <td>1</td>\n",
       "      <td>1</td>\n",
       "      <td>11</td>\n",
       "    </tr>\n",
       "    <tr>\n",
       "      <th>3</th>\n",
       "      <td>2</td>\n",
       "      <td>1</td>\n",
       "      <td>1</td>\n",
       "      <td>2</td>\n",
       "      <td>2</td>\n",
       "      <td>1</td>\n",
       "      <td>1</td>\n",
       "      <td>1</td>\n",
       "      <td>12</td>\n",
       "    </tr>\n",
       "    <tr>\n",
       "      <th>4</th>\n",
       "      <td>2</td>\n",
       "      <td>3</td>\n",
       "      <td>1</td>\n",
       "      <td>1</td>\n",
       "      <td>2</td>\n",
       "      <td>3</td>\n",
       "      <td>1</td>\n",
       "      <td>1</td>\n",
       "      <td>13</td>\n",
       "    </tr>\n",
       "  </tbody>\n",
       "</table>\n",
       "</div>"
      ],
      "text/plain": [
       "  Resource 1 Resource 2 Resource 3 Start Event Task 1 Task 2 Task 3 End Event  \\\n",
       "0          1          1          0           2      1      1      0         0   \n",
       "1          3          2          1           2      3      2      1         1   \n",
       "2          1          2          1           2      1      2      1         1   \n",
       "3          2          1          1           2      2      1      1         1   \n",
       "4          2          3          1           1      2      3      1         1   \n",
       "\n",
       "   hour  \n",
       "0     9  \n",
       "1    10  \n",
       "2    11  \n",
       "3    12  \n",
       "4    13  "
      ]
     },
     "execution_count": 91,
     "metadata": {},
     "output_type": "execute_result"
    }
   ],
   "source": [
    "df['completion_datetime'] = pd.to_datetime(df.complete_timestamp, format='%Y-%m-%dT%H:%M:%S.%f+00:00')\n",
    "df.drop(columns='complete_timestamp', inplace=True)\n",
    "df.fillna('None', inplace=True)\n",
    "    \n",
    "all_columns = ['timestamp'] + list(df['resource'].unique()) + list(df['activity'].unique())\n",
    "inter_data_aggregate = pd.DataFrame(columns=all_columns)\n",
    "\n",
    "grouped = df.groupby(pd.Grouper(key='completion_datetime', freq=groupby_time_frequency))\n",
    "for name1, group1 in tqdm(grouped):\n",
    "    temp_row = {key: 0 for key in all_columns}\n",
    "    temp_row['timestamp'] = name1\n",
    "    for name2, group2 in group1.groupby(['activity', 'resource']):\n",
    "        count = len(group2['case_id'].unique())\n",
    "        try:\n",
    "            temp_row[name2[0]] += count\n",
    "        except KeyError:\n",
    "            pass\n",
    "        try:\n",
    "            temp_row[name2[1]] += count\n",
    "        except KeyError:\n",
    "            pass\n",
    "    inter_data_aggregate = inter_data_aggregate.append(temp_row, ignore_index=True)\n",
    "\n",
    "inter_data_aggregate['hour'] = inter_data_aggregate['timestamp'].apply(lambda x: x.hour)\n",
    "inter_data_aggregate.drop(columns=['timestamp', 'None'], inplace=True)\n",
    "inter_data_aggregate.head()"
   ]
  },
  {
   "cell_type": "code",
   "execution_count": 92,
   "metadata": {},
   "outputs": [
    {
     "ename": "NameError",
     "evalue": "name 'inter_data_aggregatea_aggregatea_aggregate_data_aggregate' is not defined",
     "output_type": "error",
     "traceback": [
      "\u001b[0;31m---------------------------------------------------------------------------\u001b[0m",
      "\u001b[0;31mNameError\u001b[0m                                 Traceback (most recent call last)",
      "\u001b[0;32m<ipython-input-92-9617d820533a>\u001b[0m in \u001b[0;36m<module>\u001b[0;34m()\u001b[0m\n\u001b[0;32m----> 1\u001b[0;31m \u001b[0minter_data_aggregatea_aggregatea_aggregate_data_aggregate\u001b[0m\u001b[0;34m.\u001b[0m\u001b[0mmean\u001b[0m\u001b[0;34m(\u001b[0m\u001b[0;34m)\u001b[0m\u001b[0;34m\u001b[0m\u001b[0;34m\u001b[0m\u001b[0m\n\u001b[0m",
      "\u001b[0;31mNameError\u001b[0m: name 'inter_data_aggregatea_aggregatea_aggregate_data_aggregate' is not defined"
     ]
    }
   ],
   "source": [
    "inter_data_aggregatea_aggregatea_aggregate_data_aggregate.mean()"
   ]
  },
  {
   "cell_type": "markdown",
   "metadata": {},
   "source": [
    "----"
   ]
  },
  {
   "cell_type": "code",
   "execution_count": 64,
   "metadata": {},
   "outputs": [
    {
     "name": "stdout",
     "output_type": "stream",
     "text": [
      "[4.] [0.47553379] [0.47553379] [0.47553379]\n"
     ]
    }
   ],
   "source": [
    "# intervene on resource_1\n",
    "resource_1 = 4\n",
    "\n",
    "X = np.array([resource_1, np.mean(data_aggregate['Start Event'])]).reshape((1, -1))\n",
    "task_1 = scm_function_list['Task 1']['model'].predict(X)\n",
    "task_1\n",
    "\n",
    "X = np.array([np.mean(data_aggregate['Resource 2']),\n",
    "              task_1])\n",
    "X = X.reshape((1, -1))\n",
    "task_2 = scm_function_list['Task 2']['model'].predict(X)\n",
    "task_2\n",
    "\n",
    "X = np.array([np.mean(data_aggregate['Resource 3']),\n",
    "             task_2])\n",
    "X = X.reshape((1, -1))\n",
    "task_3 = scm_function_list['Task 3']['model'].predict(X)\n",
    "task_3\n",
    "\n",
    "X = np.array([ task_3])\n",
    "X = X.reshape((1, -1))\n",
    "end_event = scm_function_list['End Event']['model'].predict(X)\n",
    "end_event\n",
    "\n",
    "print(task_1, task_2, task_3, end_event)"
   ]
  },
  {
   "cell_type": "markdown",
   "metadata": {},
   "source": [
    "### Checking if estimate meets simulation data"
   ]
  },
  {
   "cell_type": "code",
   "execution_count": 40,
   "metadata": {},
   "outputs": [
    {
     "data": {
      "image/png": "[encoded data removed]",
      "text/latex": [
       "$$0.4755337866755433$$"
      ],
      "text/plain": [
       "0.4755337866755433"
      ]
     },
     "execution_count": 40,
     "metadata": {},
     "output_type": "execute_result"
    }
   ],
   "source": [
    "# inter_data_aggregate = inter_data_aggregate[inter_data_aggregate['hour'] > 8]\n",
    "# inter_data_aggregate = inter_data_aggregate[inter_data_aggregate['hour'] <17]\n",
    "inter_data_aggregate.head()\n",
    "np.mean(inter_data_aggregate['Task 2'])"
   ]
  },
  {
   "cell_type": "code",
   "execution_count": 41,
   "metadata": {},
   "outputs": [
    {
     "data": {
      "text/plain": [
       "Resource 1      0.475534\n",
       "Resource 2      0.475534\n",
       "Resource 3      0.475534\n",
       "Start Event     0.475534\n",
       "Task 1          0.475534\n",
       "Task 2          0.475534\n",
       "Task 3          0.475534\n",
       "End Event       0.475534\n",
       "hour           11.499881\n",
       "dtype: float64"
      ]
     },
     "execution_count": 41,
     "metadata": {},
     "output_type": "execute_result"
    }
   ],
   "source": [
    "inter_data_aggregate.mean()"
   ]
  },
  {
   "cell_type": "code",
   "execution_count": 42,
   "metadata": {},
   "outputs": [
    {
     "data": {
      "text/plain": [
       "Resource 1     0.475534\n",
       "Resource 2     0.475534\n",
       "Resource 3     0.475534\n",
       "Start Event    0.475534\n",
       "Task 1         0.475534\n",
       "Task 2         0.475534\n",
       "Task 3         0.475534\n",
       "End Event      0.475534\n",
       "dtype: float64"
      ]
     },
     "execution_count": 42,
     "metadata": {},
     "output_type": "execute_result"
    }
   ],
   "source": [
    "data_aggregate.mean()"
   ]
  }
 ],
 "metadata": {
  "kernelspec": {
   "display_name": "Python 3",
   "language": "python",
   "name": "python3"
  },
  "language_info": {
   "codemirror_mode": {
    "name": "ipython",
    "version": 3
   },
   "file_extension": ".py",
   "mimetype": "text/x-python",
   "name": "python",
   "nbconvert_exporter": "python",
   "pygments_lexer": "ipython3",
   "version": "3.6.7"
  }
 },
 "nbformat": 4,
 "nbformat_minor": 2
}
